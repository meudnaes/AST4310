{
 "cells": [
  {
   "cell_type": "markdown",
   "metadata": {},
   "source": [
    "# Project 1"
   ]
  },
  {
   "cell_type": "markdown",
   "metadata": {},
   "source": [
    "**Exercise 1**"
   ]
  },
  {
   "cell_type": "markdown",
   "metadata": {},
   "source": [
    "Spectral lines are one of the few ways in astronomy we can find information from stellar objects.\n",
    "Cecilia Payne wrote in her phD how the spectral lines of the solar spectrum where mostly due to ionised hydrogen and helium. The general concensus at the time was that stars had roughly the same elemental composition as the Earth. Here we will look into some of her work."
   ]
  },
  {
   "cell_type": "markdown",
   "metadata": {},
   "source": [
    "We will start by looking at a simple stellar spectrum. In the stellar spectrogram from Novotny (1973) we can only see the balmer $\\beta$ line in the stellar spectrograms. This is the line marked as $H_{\\beta}$ in the spectrograms. It is also possible to see the hydrogen $\\gamma$, $\\delta$ and $\\epsilon$ marked as $H_{\\gamma}$, $H_{\\delta}$ and $H + H_{\\epsilon}$. This is an example of how most of the substance in a star consists of ionized hydrogen or helium. From a level structure for hydrogen we can also see that each of the series share the same lower levels, and an alpha line from a series corresponds with a beta line of the series with one less lower level."
   ]
  },
  {
   "cell_type": "markdown",
   "metadata": {},
   "source": [
    "Payne thought that the strength of the absorption line scaled linearly with the population density of the lower level of the corresponding transition. Since a molecule or an atom absorbes the photons and then scatters photons in different directions it is logical to think that the more we have of atoms in the same energy level the more photons are cattered and the line becomes stronger."
   ]
  },
  {
   "cell_type": "markdown",
   "metadata": {},
   "source": [
    "If we want to estimate the strength ratio, between the different lines, we can start by looking at the Boltzmann law. We choose a temperature for the environment of the sample gas, and assume the gas consists of hydrogen atoms. We will also only be looking at unionized hydrogen.\n",
    "\\begin{equation}\n",
    "\\frac{n_{1, s}}{N_{1}} = \\frac{g_{1, s}}{U_{1}} e^{- \\frac{X_{1, s}}{kT}}\n",
    "\\end{equation}\n",
    "We then want to find the ratio of state $s_1$ and $s_2$.\n",
    "\\begin{equation}\n",
    "\\frac{n_{1, s_1} N_{1}}{n_{1, s_2} N_{1}} = \\frac{g_{1, s_1} U_{1}}{g_{1, s_2} U_{1}} e^{- \\frac{X_{1, s_1}}{kT}} e^{\\frac{X_{1, s_2}}{kT}} \\Rightarrow \\frac{n_{1, s_1}}{n_{1, s_2}} = \\frac{g_{1, s_1}}{g_{1, s_2}} e^{- \\frac{X_{1, s_1} - X_{1, s_2}}{kT}}\n",
    "\\end{equation}\n",
    "If we look at the hydrogen atom, the statistical weight is given by\n",
    "\\begin{equation}\n",
    "g_{1, s} = 2s^2\n",
    "\\end{equation}\n",
    "and the excitation energy\n",
    "\\begin{equation}\n",
    "X_{1, s} = 13.598 \\left( 1 - \\frac{1}{s^2} \\right) [eV]\n",
    "\\end{equation}\n",
    "setting these expressios into the ratio expression, we get\n",
    "\\begin{equation}\n",
    "\\frac{n_{1, s_1}}{n_{1, s_2}} = \\frac{s_1}{s_2} e^{\\frac{2C (s_2^2 - s_1^2)}{s_1^2 s_2^2 k T}}\n",
    "\\end{equation}\n",
    "We can make a simple python scrips for this and calculate this ratio for state 1, 2, 3 and 4."
   ]
  },
  {
   "cell_type": "code",
   "execution_count": 6,
   "metadata": {},
   "outputs": [],
   "source": [
    "import numpy as np\n",
    "import astropy.units as u\n",
    "import matplotlib.pyplot as plt\n",
    "import astropy.constants as c\n",
    "def ratio(T, s1, s2):\n",
    "    C = 13.598 * u.electronvolt\n",
    "    return s1 ** 2 / (s2 ** 2) * np.exp(2 * C * (s2 ** 2 - s1 ** 2) / (s1 ** 2 * s2 ** 2 * c.k_B * T))"
   ]
  },
  {
   "cell_type": "markdown",
   "metadata": {},
   "source": [
    "Then we can use this function to calculate the ratio between all the four series, Lymann, Balmer, Paschen and Brackett."
   ]
  },
  {
   "cell_type": "code",
   "execution_count": 7,
   "metadata": {},
   "outputs": [
    {
     "name": "stdout",
     "output_type": "stream",
     "text": [
      "n_1 / n_2 =  9.061730416756841e+19\n",
      "n_1 / n_3 =  2.584050823417163e+23\n",
      "n_1 / n_4 =  3.125855723481328e+24\n",
      "n_2 / n_3 =  2851.608583101036\n",
      "n_2 / n_4 =  34495.13039696057\n",
      "n_3 / n_4 =  12.096726949618077\n"
     ]
    }
   ],
   "source": [
    "T = 5000 * u.Kelvin\n",
    "print(\"n_1 / n_2 = \", ratio(T, 1, 2))\n",
    "print(\"n_1 / n_3 = \", ratio(T, 1, 3))\n",
    "print(\"n_1 / n_4 = \", ratio(T, 1, 4))\n",
    "print(\"n_2 / n_3 = \", ratio(T, 2, 3))\n",
    "print(\"n_2 / n_4 = \", ratio(T, 2, 4))\n",
    "print(\"n_3 / n_4 = \", ratio(T, 3, 4))"
   ]
  },
  {
   "cell_type": "markdown",
   "metadata": {},
   "source": [
    "We assume a linear relation between the population dencity and the strength of the corresponding lines. Thus the population density ratio is equal to the strength ratio."
   ]
  },
  {
   "cell_type": "markdown",
   "metadata": {},
   "source": [
    "One of the important aspects of Payns thises was that she used the newly discovered Saha distribution to model the amount of ionized elements in the sun. The easies way to understant the difference between the old Boltzmann distribution and the new Saha distribution for temperature, is to plot the two and see how the distributions evolve.\n",
    "We choose to just plot the general form that evolves with temperature and choose the forms\n",
    "\\begin{equation}\n",
    "y_B = A e^{-B / T}\n",
    "\\end{equation}\n",
    "\\begin{equation}\n",
    "y_S = C T^{3 / 2} e^{- D / T}\n",
    "\\end{equation}"
   ]
  },
  {
   "cell_type": "markdown",
   "metadata": {},
   "source": [
    "We will also choose the values $A = 50$ and $B = C = D = 2$. Already here we can see that they should evolve differently since $y_B$ only has the exponential part, while $y_S$ also has a linear term to the power of three halvs."
   ]
  },
  {
   "cell_type": "code",
   "execution_count": 9,
   "metadata": {},
   "outputs": [
    {
     "data": {
      "image/png": "[encoded data removed]",
      "text/plain": [
       "<Figure size 432x288 with 1 Axes>"
      ]
     },
     "metadata": {
      "needs_background": "light"
     },
     "output_type": "display_data"
    }
   ],
   "source": [
    "from numpy import linspace, exp\n",
    "from matplotlib.pyplot import plot, xlabel, legend, show\n",
    "T = np.linspace(1, 10, 100)\n",
    "A = 50\n",
    "B = 2\n",
    "C = 2\n",
    "D = 2\n",
    "yB = A * np.exp(- B / T)\n",
    "yS = C * T ** (3/2) * np.exp(-D / T)\n",
    "\n",
    "plt.plot(T, yB, T, yS)\n",
    "plt.xlabel(\"K\")\n",
    "plt.legend([r\"$f_{Bolz} = Ae^{-B / T}$\", r\"$f_{Saha} = CT^{3/2}e^{-D / T}$\"])\n",
    "\n",
    "plt.show()"
   ]
  },
  {
   "cell_type": "markdown",
   "metadata": {},
   "source": [
    "Here we see that the Boltzmann distribution converges towards a finite point, while the Saha distribution rises to infinity. This is as expected because of the extra linear term in the Saha distribution."
   ]
  },
  {
   "cell_type": "markdown",
   "metadata": {},
   "source": [
    "From this we can see that the ionisation, which followes the Saha distribution rises for ever, and thus you can ionize all particles, until there are no more available. However, the Boltzmann equation converges at some point and thus only a limited amount of particles can be excited. This might be because it is much harder to keep an atom excited, than to keep it ionized."
   ]
  },
  {
   "cell_type": "markdown",
   "metadata": {},
   "source": [
    "**Exercise 2**"
   ]
  },
  {
   "cell_type": "markdown",
   "metadata": {},
   "source": [
    "**Exercies 3**"
   ]
  },
  {
   "cell_type": "markdown",
   "metadata": {},
   "source": [
    "As a result of the Saha Boltzmann distribution we can get a much larger amount of calsium being ionized than we get excited hydrogen. This means that we can get a stronger line for calsium ionization than we get from hydrogen excitation since the amount of radiation used to excite and ionize the different atoms are approximately the same amount."
   ]
  },
  {
   "cell_type": "markdown",
   "metadata": {},
   "source": [
    "To prove this we can compute the expected strength ratio of the two lines as functions of temperature and look at the ratio value at the temperature around the Sun's surface."
   ]
  },
  {
   "cell_type": "code",
   "execution_count": 11,
   "metadata": {},
   "outputs": [
    {
     "ename": "NameError",
     "evalue": "name 'numpy' is not defined",
     "output_type": "error",
     "traceback": [
      "\u001b[0;31m---------------------------------------------------------------------------\u001b[0m",
      "\u001b[0;31mNameError\u001b[0m                                 Traceback (most recent call last)",
      "\u001b[0;32m<ipython-input-11-6128dbf97025>\u001b[0m in \u001b[0;36m<module>\u001b[0;34m\u001b[0m\n\u001b[1;32m      2\u001b[0m \u001b[0mepres\u001b[0m \u001b[0;34m=\u001b[0m \u001b[0;36m10\u001b[0m \u001b[0;34m*\u001b[0m \u001b[0mu\u001b[0m\u001b[0;34m.\u001b[0m\u001b[0mPa\u001b[0m\u001b[0;34m\u001b[0m\u001b[0;34m\u001b[0m\u001b[0m\n\u001b[1;32m      3\u001b[0m \u001b[0;34m\u001b[0m\u001b[0m\n\u001b[0;32m----> 4\u001b[0;31m \u001b[0mh_atom\u001b[0m \u001b[0;34m=\u001b[0m \u001b[0mAtom\u001b[0m \u001b[0;34m(\u001b[0m\u001b[0;34m\"H_atom.txt\"\u001b[0m\u001b[0;34m)\u001b[0m\u001b[0;34m\u001b[0m\u001b[0;34m\u001b[0m\u001b[0m\n\u001b[0m\u001b[1;32m      5\u001b[0m \u001b[0mca_atom\u001b[0m \u001b[0;34m=\u001b[0m \u001b[0mAtom\u001b[0m \u001b[0;34m(\u001b[0m\u001b[0;34m\"Ca_atom.txt\"\u001b[0m\u001b[0;34m)\u001b[0m\u001b[0;34m\u001b[0m\u001b[0;34m\u001b[0m\u001b[0m\n\u001b[1;32m      6\u001b[0m \u001b[0mh_pops\u001b[0m \u001b[0;34m=\u001b[0m \u001b[0mh_atom\u001b[0m\u001b[0;34m.\u001b[0m\u001b[0mcompute_populations\u001b[0m\u001b[0;34m(\u001b[0m\u001b[0mtemp\u001b[0m\u001b[0;34m,\u001b[0m \u001b[0me_press\u001b[0m\u001b[0;34m)\u001b[0m\u001b[0;34m\u001b[0m\u001b[0;34m\u001b[0m\u001b[0m\n",
      "\u001b[0;32m<ipython-input-2-fe06000eb36b>\u001b[0m in \u001b[0;36m__init__\u001b[0;34m(self, atomfile)\u001b[0m\n\u001b[1;32m     15\u001b[0m         \u001b[0mself\u001b[0m\u001b[0;34m.\u001b[0m\u001b[0mloaded\u001b[0m \u001b[0;34m=\u001b[0m \u001b[0;32mFalse\u001b[0m\u001b[0;34m\u001b[0m\u001b[0;34m\u001b[0m\u001b[0m\n\u001b[1;32m     16\u001b[0m         \u001b[0;32mif\u001b[0m \u001b[0matomfile\u001b[0m\u001b[0;34m:\u001b[0m\u001b[0;34m\u001b[0m\u001b[0;34m\u001b[0m\u001b[0m\n\u001b[0;32m---> 17\u001b[0;31m             \u001b[0mself\u001b[0m\u001b[0;34m.\u001b[0m\u001b[0mread_atom\u001b[0m\u001b[0;34m(\u001b[0m\u001b[0matomfile\u001b[0m\u001b[0;34m)\u001b[0m\u001b[0;34m\u001b[0m\u001b[0;34m\u001b[0m\u001b[0m\n\u001b[0m\u001b[1;32m     18\u001b[0m \u001b[0;34m\u001b[0m\u001b[0m\n\u001b[1;32m     19\u001b[0m     \u001b[0;32mdef\u001b[0m \u001b[0mread_atom\u001b[0m\u001b[0;34m(\u001b[0m\u001b[0mself\u001b[0m\u001b[0;34m,\u001b[0m \u001b[0mfilename\u001b[0m\u001b[0;34m)\u001b[0m\u001b[0;34m:\u001b[0m\u001b[0;34m\u001b[0m\u001b[0;34m\u001b[0m\u001b[0m\n",
      "\u001b[0;32m<ipython-input-2-fe06000eb36b>\u001b[0m in \u001b[0;36mread_atom\u001b[0;34m(self, filename)\u001b[0m\n\u001b[1;32m     26\u001b[0m             \u001b[0mName\u001b[0m \u001b[0mof\u001b[0m \u001b[0mfile\u001b[0m \u001b[0;32mwith\u001b[0m \u001b[0matomic\u001b[0m \u001b[0mdata\u001b[0m\u001b[0;34m.\u001b[0m\u001b[0;34m\u001b[0m\u001b[0;34m\u001b[0m\u001b[0m\n\u001b[1;32m     27\u001b[0m         \"\"\"\n\u001b[0;32m---> 28\u001b[0;31m         \u001b[0mtmp\u001b[0m \u001b[0;34m=\u001b[0m \u001b[0mnumpy\u001b[0m\u001b[0;34m.\u001b[0m\u001b[0mloadtxt\u001b[0m\u001b[0;34m(\u001b[0m\u001b[0mfilename\u001b[0m\u001b[0;34m,\u001b[0m \u001b[0munpack\u001b[0m\u001b[0;34m=\u001b[0m\u001b[0;32mTrue\u001b[0m\u001b[0;34m)\u001b[0m\u001b[0;34m\u001b[0m\u001b[0;34m\u001b[0m\u001b[0m\n\u001b[0m\u001b[1;32m     29\u001b[0m         \u001b[0mself\u001b[0m\u001b[0;34m.\u001b[0m\u001b[0mn_stages\u001b[0m \u001b[0;34m=\u001b[0m \u001b[0mint\u001b[0m\u001b[0;34m(\u001b[0m\u001b[0mtmp\u001b[0m\u001b[0;34m[\u001b[0m\u001b[0;36m2\u001b[0m\u001b[0;34m]\u001b[0m\u001b[0;34m.\u001b[0m\u001b[0mmax\u001b[0m\u001b[0;34m(\u001b[0m\u001b[0;34m)\u001b[0m\u001b[0;34m)\u001b[0m \u001b[0;34m+\u001b[0m \u001b[0;36m1\u001b[0m\u001b[0;34m\u001b[0m\u001b[0;34m\u001b[0m\u001b[0m\n\u001b[1;32m     30\u001b[0m         \u001b[0;31m# Get maximum number of levels in any stage\u001b[0m\u001b[0;34m\u001b[0m\u001b[0;34m\u001b[0m\u001b[0;34m\u001b[0m\u001b[0m\n",
      "\u001b[0;31mNameError\u001b[0m: name 'numpy' is not defined"
     ]
    }
   ],
   "source": [
    "temp = np.linspace(1000, 20000, 100) * u.Kelvin\n",
    "epres = 10 * u.Pa\n",
    "\n",
    "h_atom = Atom (\"H_atom.txt\")\n",
    "ca_atom = Atom (\"Ca_atom.txt\")\n",
    "h_pops = h_atom.compute_populations(temp, e_press)\n",
    "ca_pops = ca_atom.compute_populations(temp, e_press)\n",
    "\n",
    "ca_abund = 2 * 10 ** (-6)\n",
    "\n",
    "ca_h_ratio = ca_pops[1, 0] / h_pops[0, 1] * ca_abund\n",
    "\n",
    "fig, ax = plt.subplots()\n",
    "ax.plot(temp, ca_h_ratio)\n",
    "ax.set_yscale(\"log\")\n",
    "ax.set_xlabel(r\"Temperature (K)\")\n",
    "ax.set_ylabel(r\"Ca II K / H$\\alpha$ strength ratio\")"
   ]
  },
  {
   "cell_type": "markdown",
   "metadata": {},
   "source": [
    "We see here that the ratio is larger than 1 around the surface temperature of the sun. This means that the line for calsium ionization is stronger than the line for tthe first hydrogen excitation."
   ]
  },
  {
   "cell_type": "code",
   "execution_count": 12,
   "metadata": {},
   "outputs": [
    {
     "ename": "NameError",
     "evalue": "name 'ca_atom' is not defined",
     "output_type": "error",
     "traceback": [
      "\u001b[0;31m---------------------------------------------------------------------------\u001b[0m",
      "\u001b[0;31mNameError\u001b[0m                                 Traceback (most recent call last)",
      "\u001b[0;32m<ipython-input-12-68aa33457ba4>\u001b[0m in \u001b[0;36m<module>\u001b[0;34m\u001b[0m\n\u001b[1;32m      3\u001b[0m \u001b[0mdT\u001b[0m \u001b[0;34m=\u001b[0m \u001b[0;36m1\u001b[0m \u001b[0;34m*\u001b[0m \u001b[0mKelvin\u001b[0m\u001b[0;34m\u001b[0m\u001b[0;34m\u001b[0m\u001b[0m\n\u001b[1;32m      4\u001b[0m \u001b[0;34m\u001b[0m\u001b[0m\n\u001b[0;32m----> 5\u001b[0;31m \u001b[0mn_ca1\u001b[0m \u001b[0;34m=\u001b[0m \u001b[0mca_atom\u001b[0m\u001b[0;34m.\u001b[0m\u001b[0mcompute_populations\u001b[0m\u001b[0;34m(\u001b[0m\u001b[0mtemp\u001b[0m\u001b[0;34m,\u001b[0m \u001b[0me_press\u001b[0m\u001b[0;34m)\u001b[0m\u001b[0;34m[\u001b[0m\u001b[0;36m1\u001b[0m\u001b[0;34m,\u001b[0m \u001b[0;36m0\u001b[0m\u001b[0;34m]\u001b[0m\u001b[0;34m\u001b[0m\u001b[0;34m\u001b[0m\u001b[0m\n\u001b[0m\u001b[1;32m      6\u001b[0m \u001b[0mn_ca2\u001b[0m \u001b[0;34m=\u001b[0m \u001b[0mca_atom\u001b[0m\u001b[0;34m.\u001b[0m\u001b[0mcompute_populations\u001b[0m\u001b[0;34m(\u001b[0m\u001b[0mtemp\u001b[0m \u001b[0;34m-\u001b[0m \u001b[0mdT\u001b[0m\u001b[0;34m,\u001b[0m \u001b[0me_press\u001b[0m\u001b[0;34m)\u001b[0m\u001b[0;34m[\u001b[0m\u001b[0;36m1\u001b[0m\u001b[0;34m,\u001b[0m \u001b[0;36m0\u001b[0m\u001b[0;34m]\u001b[0m\u001b[0;34m\u001b[0m\u001b[0;34m\u001b[0m\u001b[0m\n\u001b[1;32m      7\u001b[0m \u001b[0;34m\u001b[0m\u001b[0m\n",
      "\u001b[0;31mNameError\u001b[0m: name 'ca_atom' is not defined"
     ]
    }
   ],
   "source": [
    "temp = linspace(2000, 12000, 100) * Kelvin\n",
    "\n",
    "dT = 1 * Kelvin\n",
    "\n",
    "n_ca1 = ca_atom.compute_populations(temp, e_press)[1, 0]\n",
    "n_ca2 = ca_atom.compute_populations(temp - dT, e_press)[1, 0]\n",
    "\n",
    "diff_ca = (n_ca1 - n_ca2) / (dT * n_ca1)\n",
    "\n",
    "n_h1 = h_atom.compute_populations(temp, e_press)[0, 1]\n",
    "n_h2 = h_atom.compute_populations(temp - dT, e_press)[0, 1]\n",
    "\n",
    "diff_h = (n_h1 - n_h2) / (dT * n_h1)\n",
    "\n",
    "fig, ax = plt.subplots(nrows = 2)\n",
    "ax[0].plot(temp, Abs(diff_h), label = r\"H\")\n",
    "ax[0].plot(temp, Abs(diff_ca), label = r\"Ca$^+$ K\")\n",
    "ax[0].legend()\n",
    "ax[0].set_ylabel(r\"$(\\Delta n_i, \\Delta T) / n_i$\")\n",
    "\n",
    "ax[1].plot(temp, n_h1 / n_h1.max(), \"--\", label = r\"H\")\n",
    "ax[1].plot(temp, n_ca1 / n_ca1.max(), \"--\", label = r\"Ca$^+$\")\n",
    "ax[1].set_yscale(\"log\")\n",
    "ax[1].legend()\n",
    "ax[1].set_ylabel(\"Relative Population\")\n",
    "ax[1].set_xlabel(\"Temperature (K)\")"
   ]
  },
  {
   "cell_type": "code",
   "execution_count": null,
   "metadata": {},
   "outputs": [],
   "source": []
  }
 ],
 "metadata": {
  "kernelspec": {
   "display_name": "Python 3",
   "language": "python",
   "name": "python3"
  },
  "language_info": {
   "codemirror_mode": {
    "name": "ipython",
    "version": 3
   },
   "file_extension": ".py",
   "mimetype": "text/x-python",
   "name": "python",
   "nbconvert_exporter": "python",
   "pygments_lexer": "ipython3",
   "version": "3.8.5"
  }
 },
 "nbformat": 4,
 "nbformat_minor": 4
}
