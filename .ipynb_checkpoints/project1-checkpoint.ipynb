{
 "cells": [
  {
   "cell_type": "markdown",
   "metadata": {},
   "source": [
    "# Project 1"
   ]
  },
  {
   "cell_type": "markdown",
   "metadata": {},
   "source": [
    "Spectral lines are one of the few ways in astronomy we can find information from stellar objects.\n",
    "Cecilia Payne wrote in her phD how the spectral lines of the solar spectrum where mostly due to ionised hydrogen and helium. The general concensus at the time was that stars had roughly the same elemental composition as the Earth. Here we will look into some of her work."
   ]
  },
  {
   "cell_type": "markdown",
   "metadata": {},
   "source": [
    "We will start by looking at a simple stellar spectrum. In the stellar spectrogram from Novotny (1973) we can only see the balmer $\\beta$ line in the stellar spectrograms. This is the line marked as $H_{\\beta}$ in the spectrograms. It is also possible to see the hydrogen $\\gamma$, $\\delta$ and $\\epsilon$ marked as $H_{\\gamma}$, $H_{\\delta}$ and $H + H_{\\epsilon}$. This is an example of how most of the substance in a star consists of ionized hydrogen or helium. From a level structure for hydrogen we can also see that each of the series share the same lower levels, and an alpha line from a series corresponds with a beta line of the series with one less lower level."
   ]
  },
  {
   "cell_type": "markdown",
   "metadata": {},
   "source": [
    "Payne thought that the strength of the absorption line scaled linearly with the population density of the lower level of the corresponding transition. Since a molecule or an atom absorbes the photons and then scatters photons in different directions it is logical to think that the more we have of atoms in the same energy level the more photons are cattered and the line becomes stronger."
   ]
  },
  {
   "cell_type": "markdown",
   "metadata": {},
   "source": [
    "If we want to estimate the strength ratio, between the different lines, we can start by looking at the Boltzmann law. We choose a temperature for the environment of the sample gas, and assume the gas consists of hydrogen atoms. We will also only be looking at unionized hydrogen.\n",
    "\\begin{equation}\n",
    "\\frac{n_{1, s}}{N_{1}} = \\frac{g_{1, s}}{U_{1}} e^{- \\frac{X_{1, s}}{kT}}\n",
    "\\end{equation}\n",
    "We then want to find the ratio of state $s_1$ and $s_2$.\n",
    "\\begin{equation}\n",
    "\\frac{n_{1, s_1} N_{1}}{n_{1, s_2} N_{1}} = \\frac{g_{1, s_1} U_{1}}{g_{1, s_2} U_{1}} e^{- \\frac{X_{1, s_1}}{kT}} e^{\\frac{X_{1, s_2}}{kT}} \\Rightarrow \\frac{n_{1, s_1}}{n_{1, s_2}} = \\frac{g_{1, s_1}}{g_{1, s_2}} e^{- \\frac{X_{1, s_1} - X_{1, s_2}}{kT}}\n",
    "\\end{equation}\n",
    "If we look at the hydrogen atom, the statistical weight is given by\n",
    "\\begin{equation}\n",
    "g_{1, s} = 2s^2\n",
    "\\end{equation}\n",
    "and the excitation energy\n",
    "\\begin{equation}\n",
    "X_{1, s} = 13.598 \\left( 1 - \\frac{1}{s^2} \\right) [eV]\n",
    "\\end{equation}\n",
    "setting these expressios into the ratio expression, we get\n",
    "\\begin{equation}\n",
    "\\frac{n_{1, s_1}}{n_{1, s_2}} = \\frac{s_1}{s_2} e^{\\frac{2C (s_2^2 - s_1^2)}{s_1^2 s_2^2 k T}}\n",
    "\\end{equation}\n",
    "We can make a simple python scrips for this and calculate this ratio for state 1, 2, 3 and 4."
   ]
  },
  {
   "cell_type": "code",
   "execution_count": 7,
   "metadata": {},
   "outputs": [],
   "source": [
    "from astropy.units import electronvolt\n",
    "from astropy.constants import k_B\n",
    "from numpy import exp\n",
    "def ratio(T, s1, s2):\n",
    "    C = 13.598 * electronvolt\n",
    "    return s1 ** 2 / (s2 ** 2) * exp(2 * C * (s2 ** 2 - s1 ** 2) / (s1 ** 2 * s2 ** 2 * k_B * T))"
   ]
  },
  {
   "cell_type": "markdown",
   "metadata": {},
   "source": [
    "Then we can use this function to calculate the ratio between all the four series, Lymann, Balmer, Paschen and Brackett."
   ]
  },
  {
   "cell_type": "code",
   "execution_count": 9,
   "metadata": {},
   "outputs": [
    {
     "name": "stdout",
     "output_type": "stream",
     "text": [
      "n_1 / n_2 =  9.061730416756841e+19\n",
      "n_1 / n_3 =  2.584050823417163e+23\n",
      "n_1 / n_4 =  3.125855723481328e+24\n",
      "n_2 / n_3 =  2851.608583101036\n",
      "n_2 / n_4 =  34495.13039696057\n",
      "n_3 / n_4 =  12.096726949618077\n"
     ]
    }
   ],
   "source": [
    "from astropy.units import K\n",
    "T = 5000 * K\n",
    "print(\"n_1 / n_2 = \", ratio(T, 1, 2))\n",
    "print(\"n_1 / n_3 = \", ratio(T, 1, 3))\n",
    "print(\"n_1 / n_4 = \", ratio(T, 1, 4))\n",
    "print(\"n_2 / n_3 = \", ratio(T, 2, 3))\n",
    "print(\"n_2 / n_4 = \", ratio(T, 2, 4))\n",
    "print(\"n_3 / n_4 = \", ratio(T, 3, 4))"
   ]
  },
  {
   "cell_type": "markdown",
   "metadata": {},
   "source": [
    "We assume a linear relation between the population dencity and the strength of the corresponding lines. Thus the population density ratio is equal to the strength ratio."
   ]
  },
  {
   "cell_type": "markdown",
   "metadata": {},
   "source": [
    "One of the important aspects of Payns thises was that she used the newly discovered Saha distribution to model the amount of ionized elements in the sun. The easies way to understant the difference between the old Boltzmann distribution and the new Saha distribution for temperature, is to plot the two and see how the distributions evolve.\n",
    "We choose to just plot the general form that evolves with temperature and choose the forms\n",
    "\\begin{equation}\n",
    "y_B = A e^{-B / T}\n",
    "\\end{equation}\n",
    "\\begin{equation}\n",
    "y_S = C T^{3 / 2} e^{- D / T}\n",
    "\\end{equation}"
   ]
  },
  {
   "cell_type": "markdown",
   "metadata": {},
   "source": [
    "We will also choose the values $A = 50$ and $B = C = D = 2$. Already here we can see that they should evolve differently since $y_B$ only has the exponential part, while $y_S$ also has a linear term to the power of three halvs."
   ]
  },
  {
   "cell_type": "code",
   "execution_count": 1,
   "metadata": {},
   "outputs": [
    {
     "data": {
      "image/png": "[encoded data removed]",
      "text/plain": [
       "<Figure size 432x288 with 1 Axes>"
      ]
     },
     "metadata": {
      "needs_background": "light"
     },
     "output_type": "display_data"
    }
   ],
   "source": [
    "from numpy import linspace, exp\n",
    "from matplotlib.pyplot import plot, xlabel, legend, show\n",
    "T = linspace(1, 10, 100)\n",
    "A = 50\n",
    "B = 2\n",
    "C = 2\n",
    "D = 2\n",
    "yB = A * exp(- B / T)\n",
    "yS = C * T ** (3/2) * exp(-D / T)\n",
    "\n",
    "plot(T, yB, T, yS)\n",
    "xlabel(\"K\")\n",
    "legend([r\"f_{Bolz} = Ae^{-B / T}\", r\"f_{Saha} = CT^{3/2}e^{-D / T}\"])\n",
    "show()"
   ]
  },
  {
   "cell_type": "markdown",
   "metadata": {},
   "source": [
    "Here we see that the Boltzmann distribution converges towards a finite point, while the Saha distribution rises to infinity. This is as expected because of the extra linear term in the Saha distribution."
   ]
  },
  {
   "cell_type": "markdown",
   "metadata": {},
   "source": [
    "From this we can see that the ionisation, which followes the Saha distribution rises for ever, and thus you can ionize all particles, until there are no more available. However, the Boltzmann equation converges at some point and thus only a limited amount of particles can be excited. This might be because it is much harder to keep an atom excited, than to keep it ionized."
   ]
  },
  {
   "cell_type": "markdown",
   "metadata": {},
   "source": []
  }
 ],
 "metadata": {
  "kernelspec": {
   "display_name": "Python 3",
   "language": "python",
   "name": "python3"
  },
  "language_info": {
   "codemirror_mode": {
    "name": "ipython",
    "version": 3
   },
   "file_extension": ".py",
   "mimetype": "text/x-python",
   "name": "python",
   "nbconvert_exporter": "python",
   "pygments_lexer": "ipython3",
   "version": "3.8.5"
  }
 },
 "nbformat": 4,
 "nbformat_minor": 4
}
